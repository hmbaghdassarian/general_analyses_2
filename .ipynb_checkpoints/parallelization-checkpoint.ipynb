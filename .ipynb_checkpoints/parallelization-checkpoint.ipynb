{
 "cells": [
  {
   "cell_type": "code",
   "execution_count": null,
   "metadata": {},
   "outputs": [],
   "source": [
    "import multiprocessing\n",
    "import gc\n",
    "\n",
    "def par(func, args, n_cores):\n",
    "    '''Generic parallelization function. \n",
    "    \n",
    "    Can be expanded in the future for starmap\n",
    "    \n",
    "    Parameters\n",
    "    ---------\n",
    "    func: function \n",
    "        function to parallelize\n",
    "    args: list\n",
    "        iterable, each entry is the argument for one iteration of the function\n",
    "    n_cores: int\n",
    "        the number of processes\n",
    "    \n",
    "    Returns\n",
    "    -------\n",
    "    res: list\n",
    "        a list, each entry the output of func for an iteration of args\n",
    "\n",
    "    '''\n",
    "\n",
    "    pool = multiprocessing.Pool(processes = n_cores)\n",
    "    try:\n",
    "        res = pool.map(func, args)\n",
    "        pool.close()\n",
    "        pool.join()\n",
    "        gc.collect()\n",
    "        return res\n",
    "    except:\n",
    "        pool.close()\n",
    "        pool.join()\n",
    "        gc.collect()\n",
    "        raise ValueError('Parallelization failed')\n",
    "    "
   ]
  }
 ],
 "metadata": {
  "kernelspec": {
   "display_name": "Python 3",
   "language": "python",
   "name": "python3"
  },
  "language_info": {
   "codemirror_mode": {
    "name": "ipython",
    "version": 3
   },
   "file_extension": ".py",
   "mimetype": "text/x-python",
   "name": "python",
   "nbconvert_exporter": "python",
   "pygments_lexer": "ipython3",
   "version": "3.6.9"
  }
 },
 "nbformat": 4,
 "nbformat_minor": 2
}
