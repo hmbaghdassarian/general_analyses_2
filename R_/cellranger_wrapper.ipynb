{
 "cells": [
  {
   "cell_type": "code",
   "execution_count": null,
   "metadata": {},
   "outputs": [],
   "source": [
    "library(hash)"
   ]
  },
  {
   "cell_type": "code",
   "execution_count": null,
   "metadata": {},
   "outputs": [],
   "source": [
    "CR_count<-function(ID, fastq_path, organism, output.file = NULL, \n",
    "                   localcores_= 5, mem_percent = 0.05, kwargs=NULL){\n",
    "    ### R wrapper for cell ranger v3.1.0 count function\n",
    "    ### simple gene expression no feature barcodes\n",
    "    ### kwargs generated using hash, all key:value pairs must be strings\n",
    "    ### e.g. kwargs = hash(keys = list('expect-cells', 'force-cells'), values = list('1000', '800'))\n",
    "    ###\n",
    "    ### ID is name of directory to be saved in \n",
    "    ### fastq_path is 'path/to/fastq_directory'\n",
    "    ### output.file is 'path/to/write/terminal_output'\n",
    "    ### functionality right now is that output is in directory that script is run in, because that is how cell-ranger is witten\n",
    "    ### unsure how to change this as ID does not take a path/to/id_name, just an id_name\n",
    "    \n",
    "    # get organisms reference transcriptome\n",
    "    if(organism == 'human'){transcriptome_ = '/data/hratch/Software/refdata-cellranger-GRCh38-3.1.0/GRCh38'}\n",
    "    else if (organism == 'mouse'){transcriptome_ = '/data/hratch/Software/refdata-cellranger-mm10-3.1.0/mm10'}\n",
    "    else{\n",
    "        msg<-'Download appropriate reference transcriptome in /data/hratch/Software/ and update'\n",
    "        msg<-paste0(msg, ' CellRanger_count_wrapper.r script in general_analyses')\n",
    "        stop(msg)}\n",
    "    \n",
    "    # get total available memory in GB\n",
    "    mem = strsplit(system('free -h', intern=TRUE), ' ')[[2]]\n",
    "    mem = mem[length(mem)]\n",
    "    mem = strsplit(mem, 'G')[[1]]\n",
    "    # set mem to mem_percent of total available memory\n",
    "    mem = (as.integer(as.double(mem)*mem_percent))\n",
    "    if (mem < 128){mem = 128} # minimum of 128 gb must be set aside\n",
    "    mem = as.character(mem)\n",
    "    \n",
    "    str = paste0('cellranger count --id=', ID, ' --fastqs=', fastq_path, ' --transcriptome=', transcriptome_,\n",
    "                ' --localcores=', localcores_, ' --localmem=', mem)\n",
    "\n",
    "    # add kwargs\n",
    "    if(is.hash(kwargs)){for(key in keys(kwargs)){str=paste0(str, ' --', key, '=', kwargs[[key]])}}\n",
    "    \n",
    "    if (!is.null(output.file)){\n",
    "        str = paste0(str, ' > ', output.file)\n",
    "    }\n",
    "    \n",
    "    system(str, intern = TRUE)\n",
    "#     print(str)\n",
    "    \n",
    "}"
   ]
  }
 ],
 "metadata": {
  "kernelspec": {
   "display_name": "R [conda env:staph_vaccine]",
   "language": "R",
   "name": "conda-env-staph_vaccine-r"
  },
  "language_info": {
   "codemirror_mode": "r",
   "file_extension": ".r",
   "mimetype": "text/x-r-source",
   "name": "R",
   "pygments_lexer": "r",
   "version": "3.6.3"
  }
 },
 "nbformat": 4,
 "nbformat_minor": 2
}
