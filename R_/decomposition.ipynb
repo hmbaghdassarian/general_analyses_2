{
 "cells": [
  {
   "cell_type": "code",
   "execution_count": null,
   "metadata": {},
   "outputs": [],
   "source": [
    "library(Seurat)\n",
    "library(ggplot2)"
   ]
  },
  {
   "cell_type": "markdown",
   "metadata": {},
   "source": [
    "# PCA"
   ]
  },
  {
   "cell_type": "code",
   "execution_count": null,
   "metadata": {},
   "outputs": [],
   "source": [
    "# run PCA\n",
    "seurat_object <- RunPCA(seurat_object, verbose = F, npcs = 100, seed.use = seed)"
   ]
  },
  {
   "cell_type": "code",
   "execution_count": null,
   "metadata": {},
   "outputs": [],
   "source": [
    "# visualize PCA\n",
    "h_ = 6\n",
    "w_ = 9\n",
    "options(repr.plot.height=h_, repr.plot.width=w_)\n",
    "total_variance <- sum(matrixStats::rowVars(seurat_object@assays$integrated@scale.data))\n",
    "eigValues = (seurat_object@reductions$pca@stdev)^2\n",
    "varExplained = eigValues / total_variance\n",
    "\n",
    "\n",
    "viz_df = data.frame(varExplained)\n",
    "viz_df[['n_pcs']] = 1:dim(viz_df)[[1]]\n",
    "viz_df[['Variance.Explained']] = cumsum(viz_df$varExplained)\n",
    "\n",
    "n_pcs = min(which(diff(viz_df$Variance.Explained) < 0.001)) # which PC is the additional variance explained < 0.01%\n",
    "print(paste0('Additional variance explained is <0.1% at ', n_pcs, ' pcs'))\n",
    "g0<-ggplot(viz_df, aes(x=n_pcs, y=Variance.Explained)) + geom_point()\n",
    "for (ext in c('.svg', '.png', '.pdf')){ggsave(paste0(file_name, ext), g0, \n",
    "                                             height = h_, width = w_)}\n",
    "g0"
   ]
  },
  {
   "cell_type": "code",
   "execution_count": null,
   "metadata": {},
   "outputs": [],
   "source": []
  }
 ],
 "metadata": {
  "kernelspec": {
   "display_name": "R [conda env:FDA_collab] *",
   "language": "R",
   "name": "conda-env-FDA_collab-r"
  },
  "language_info": {
   "codemirror_mode": "r",
   "file_extension": ".r",
   "mimetype": "text/x-r-source",
   "name": "R",
   "pygments_lexer": "r",
   "version": "4.0.3"
  }
 },
 "nbformat": 4,
 "nbformat_minor": 2
}
