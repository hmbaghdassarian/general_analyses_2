{
 "cells": [
  {
   "cell_type": "code",
   "execution_count": 1,
   "metadata": {},
   "outputs": [],
   "source": [
    "library(fgsea)"
   ]
  },
  {
   "cell_type": "code",
   "execution_count": null,
   "metadata": {},
   "outputs": [],
   "source": [
    "# recommended to limit universe to measured genes only (for gsea rather than ora, will have to set this in \n",
    "# pathways)\n",
    "\n",
    "pathways<- # list with names as the pathways, and values as a vector of the gene IDs\n",
    "stats<- # list with names as gene IDs and values as the DE LFC (or other score metric)\n",
    "stats<-sorted(stats, decreasing = False)\n",
    "\n",
    "\n",
    "enrich.res<-fgseaSimple(pathways = pathways, stats = stats, nperm = 100000, minSize = 1, \n",
    "           scoreType = 'pos', nproc = n.cores, gseaParam = 1)\n",
    "enrich.res<-fgseaMultilevel(pathways = pathways, stats = stats, nPermSimpl = 100000, \n",
    "                                     nproc = n.cores, scoreType = 'pos', minSize = 2)\n",
    "# eps is error tolerance of p-value\n",
    "# multilevel helps increase p-value accuracy, and allows maxSize = Inf rather than limited to 500\n",
    "# gseaParam is recommended = 1\n",
    "# sampleSize can be considered as analogous to nperm in Simple, increasing it increases accuracy; generally\n",
    "# can keep it at default value\n",
    "\n",
    "ora.res<-fora(pathways = pathways, genes = names(tail(stats, 50)), #<-top 50 values\n",
    "                     universe = )"
   ]
  }
 ],
 "metadata": {
  "kernelspec": {
   "display_name": "R [conda env:cellchat]",
   "language": "R",
   "name": "conda-env-cellchat-r"
  },
  "language_info": {
   "codemirror_mode": "r",
   "file_extension": ".r",
   "mimetype": "text/x-r-source",
   "name": "R",
   "pygments_lexer": "r",
   "version": "4.0.3"
  }
 },
 "nbformat": 4,
 "nbformat_minor": 2
}
