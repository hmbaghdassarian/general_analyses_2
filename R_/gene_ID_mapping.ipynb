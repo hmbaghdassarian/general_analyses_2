{
 "cells": [
  {
   "cell_type": "code",
   "execution_count": 2,
   "id": "693781b0",
   "metadata": {
    "scrolled": true
   },
   "outputs": [],
   "source": [
    "suppressWarnings({\n",
    "    suppressPackageStartupMessages({\n",
    "        library(dplyr, quietly = T)\n",
    "        library(org.Mm.eg.db, quietly = T)\n",
    "        library(data.table, quietly = T)\n",
    "    })\n",
    "})"
   ]
  },
  {
   "cell_type": "code",
   "execution_count": null,
   "id": "5cab4aaa",
   "metadata": {},
   "outputs": [],
   "source": [
    "# https://medium.com/computational-biology/gene-id-mapping-using-r-14ff50eec9ba\n",
    "\n",
    "# map MGI gene symbol to mappere gene ID (needed for CellFie)\n",
    "from = 'SYMBOL'\n",
    "to = 'ENTREZID'\n",
    "\n",
    "gene.IDs<-rownames(expr)\n",
    "print(paste0('The original gene list containts ', length(gene.IDs),' genes'))\n",
    "# deal with one to many mappings by only retaining first\n",
    "mapper<-mapIds(org.Mm.eg.db, keys=gene.IDs, keytype=from, column=to, multiVals='first')\n",
    "mapper<-data.frame(mapper)\n",
    "colnames(mapper)<-c('new.ID')\n",
    "mapper[['original.ID']]<-rownames(mapper)\n",
    "\n",
    "# drop unmapped genes\n",
    "mapper<-mapper[!(is.na(mapper[['new.ID']])),]\n",
    "expr<-expr[rownames(expr) %in% mapper$original.ID,]\n",
    "print(paste0(dim(mapper)[[1]], ' genes remain after removing unmapped IDs'))\n",
    "\n",
    "# if no many to one mappings (may be the case for org.Mm.eg.db)\n",
    "rownames(expr)<-unname(setNames(mapper$new.ID, mapper$original.ID)[rownames(expr)])\n",
    "\n",
    "# deal with many to one mappings by taking row average\n",
    "expr[['new.ID']]<-unname(setNames(mapper$new.ID, mapper$original.ID)[rownames(expr)])\n",
    "expr<-setDT(expr)[ , lapply(.SD, mean, na.rm=TRUE), by = new.ID, \n",
    "                     .SDcols = colnames(expr)[colnames(expr) != 'new.ID']]\n",
    "print(paste0(dim(expr)[[1]], ' genes remain after mergin many-to-one mappings'))\n",
    "expr<-as.data.frame(expr)\n",
    "rownames(expr)<-expr[['new.ID']]\n",
    "expr<-expr[, colnames(expr) != 'new.ID']"
   ]
  }
 ],
 "metadata": {
  "kernelspec": {
   "display_name": "R [conda env:FDA_collab] *",
   "language": "R",
   "name": "conda-env-FDA_collab-r"
  },
  "language_info": {
   "codemirror_mode": "r",
   "file_extension": ".r",
   "mimetype": "text/x-r-source",
   "name": "R",
   "pygments_lexer": "r",
   "version": "4.0.5"
  }
 },
 "nbformat": 4,
 "nbformat_minor": 5
}
