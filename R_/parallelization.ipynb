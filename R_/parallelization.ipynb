{
 "cells": [
  {
   "cell_type": "code",
   "execution_count": null,
   "metadata": {},
   "outputs": [],
   "source": [
    "suppressPackageStartupMessages({\n",
    "    library(RhpcBLASctl)\n",
    "    library(foreach)\n",
    "    library(doSNOW)\n",
    "})\n",
    "\n",
    "cr = # number of cores\n",
    "RhpcBLASctl::blas_set_num_threads(round(cr/2)) # limit core usage"
   ]
  },
  {
   "cell_type": "code",
   "execution_count": null,
   "metadata": {},
   "outputs": [],
   "source": [
    "iterator = # define some iterable object\n",
    "\n",
    "func1<-function(x){\n",
    "    # do things here....\n",
    "    return(res)\n",
    "}\n",
    "# par params---------------------------------------------\n",
    "cl <- makeCluster(cr)\n",
    "registerDoSNOW(cl)\n",
    "pb <- txtProgressBar(max = length(iterator), style = 3)\n",
    "progress <- function(n_) setTxtProgressBar(pb, n_)\n",
    "opts <- list(progress = progress)\n",
    "\n",
    "\n",
    "# iterate---------------------------------------------\n",
    "print('Begin normalization')\n",
    "exprs = foreach(i = 1:length(iterator), .packages = c(''), .export = c('func1'),  \n",
    "            .verbose = TRUE, .options.snow = opts) %dopar% {\n",
    "    x<- # define some variable as afunction of i\n",
    "    res<-func1(x)\n",
    "}\n",
    "close(pb)\n",
    "stopCluster(cl)"
   ]
  }
 ],
 "metadata": {
  "kernelspec": {
   "display_name": "R [conda env:STAT4]",
   "language": "R",
   "name": "conda-env-STAT4-r"
  },
  "language_info": {
   "codemirror_mode": "r",
   "file_extension": ".r",
   "mimetype": "text/x-r-source",
   "name": "R",
   "pygments_lexer": "r",
   "version": "3.6.2"
  }
 },
 "nbformat": 4,
 "nbformat_minor": 2
}
