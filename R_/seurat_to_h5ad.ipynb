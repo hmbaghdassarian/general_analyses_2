{
 "cells": [
  {
   "cell_type": "markdown",
   "id": "50b9292a-3229-4272-ac16-0415230780c8",
   "metadata": {},
   "source": [
    "Convert rds files from R to python"
   ]
  },
  {
   "cell_type": "code",
   "execution_count": 1,
   "id": "9cba5746-62dc-4c92-ba58-24d0a86c3820",
   "metadata": {},
   "outputs": [],
   "source": [
    "suppressMessages({\n",
    "    library(Seurat, quietly = T)\n",
    "    library(SeuratDisk, quietly = T)\n",
    "})"
   ]
  },
  {
   "cell_type": "code",
   "execution_count": 18,
   "id": "c1d5b32c-0258-4c32-b267-22dd3b228eed",
   "metadata": {},
   "outputs": [],
   "source": [
    "seurat_to_h5ad <- function(file_name, from_path, dest_path, rm_h5seurat = TRUE){\n",
    "    suppressMessages({\n",
    "        suppressWarnings({\n",
    "            so<-readRDS(file.path(from_path, file_name))\n",
    "            so<-UpdateSeuratObject(so)\n",
    "            fn<-file.path(dest_path, sub(\"\\\\.RDS$\", \".h5Seurat\", file_name)) # a file name (no path) that ends with .RDS\n",
    "            SeuratDisk::SaveH5Seurat(so, filename = fn)\n",
    "            SeuratDisk::Convert(fn, dest = \"h5ad\", assay = 'RNA')\n",
    "            if (rm_h5seurat){\n",
    "                na = file.remove(fn)\n",
    "            }\n",
    "        })\n",
    "    })\n",
    "}"
   ]
  },
  {
   "cell_type": "markdown",
   "id": "eeb61a39",
   "metadata": {},
   "source": [
    "When using the \"RNA\" assay as above:\n",
    "- The Anndata adata.X is the normalized data, corresponding to the Seurat RNA assay, data slot\n",
    "- The Anndata adata.raw.X is the raw counts, corresponding to the Seurat RNA assay, counts slot"
   ]
  },
  {
   "cell_type": "code",
   "execution_count": 19,
   "id": "1ce51965-77c2-444a-b517-711e079cc3c1",
   "metadata": {},
   "outputs": [],
   "source": [
    "# example:\n",
    "from_path<-file.path(data_path, 'raw/immune_dictionary/')\n",
    "dest_path<-file.path(data_path, 'interim', 'immune_dictionary_h5ad')\n",
    "file_name<-'ref_data_NK_cell.RDS'"
   ]
  },
  {
   "cell_type": "code",
   "execution_count": 23,
   "id": "c38c6de7-4ae9-4354-a2d5-996702ec08e7",
   "metadata": {},
   "outputs": [
    {
     "data": {
      "text/plain": [
       "R version 4.3.2 (2023-10-31)\n",
       "Platform: powerpc64le-conda-linux-gnu (64-bit)\n",
       "Running under: Red Hat Enterprise Linux 8.3 (Ootpa)\n",
       "\n",
       "Matrix products: default\n",
       "BLAS/LAPACK: /nobackup/users/hmbaghda/Software/miniforge3/envs/tb_bryan/lib/libopenblasp-r0.3.26.so;  LAPACK version 3.12.0\n",
       "\n",
       "locale:\n",
       " [1] LC_CTYPE=en_US.UTF-8       LC_NUMERIC=C              \n",
       " [3] LC_TIME=en_US.UTF-8        LC_COLLATE=en_US.UTF-8    \n",
       " [5] LC_MONETARY=en_US.UTF-8    LC_MESSAGES=en_US.UTF-8   \n",
       " [7] LC_PAPER=en_US.UTF-8       LC_NAME=C                 \n",
       " [9] LC_ADDRESS=C               LC_TELEPHONE=C            \n",
       "[11] LC_MEASUREMENT=en_US.UTF-8 LC_IDENTIFICATION=C       \n",
       "\n",
       "time zone: America/New_York\n",
       "tzcode source: system (glibc)\n",
       "\n",
       "attached base packages:\n",
       "[1] stats     graphics  grDevices utils     datasets  methods   base     \n",
       "\n",
       "other attached packages:\n",
       "[1] SeuratDisk_0.0.0.9021 Seurat_5.0.1          SeuratObject_5.0.1   \n",
       "[4] sp_2.1-3             \n",
       "\n",
       "loaded via a namespace (and not attached):\n",
       "  [1] deldir_2.0-2           pbapply_1.7-2          gridExtra_2.3         \n",
       "  [4] rlang_1.1.3            magrittr_2.0.3         RcppAnnoy_0.0.22      \n",
       "  [7] spatstat.geom_3.2-8    matrixStats_1.2.0      ggridges_0.5.6        \n",
       " [10] compiler_4.3.2         png_0.1-8              vctrs_0.6.5           \n",
       " [13] reshape2_1.4.4         hdf5r_1.3.9            stringr_1.5.1         \n",
       " [16] pkgconfig_2.0.3        crayon_1.5.2           fastmap_1.1.1         \n",
       " [19] ellipsis_0.3.2         utf8_1.2.4             promises_1.2.1        \n",
       " [22] bit_4.0.5              purrr_1.0.2            jsonlite_1.8.8        \n",
       " [25] goftest_1.2-3          later_1.3.2            uuid_1.2-0            \n",
       " [28] spatstat.utils_3.0-4   irlba_2.3.5.1          parallel_4.3.2        \n",
       " [31] cluster_2.1.6          R6_2.5.1               ica_1.0-3             \n",
       " [34] spatstat.data_3.0-4    stringi_1.8.3          RColorBrewer_1.1-3    \n",
       " [37] reticulate_1.34.0      parallelly_1.36.0      lmtest_0.9-40         \n",
       " [40] scattermore_1.2        Rcpp_1.0.12            IRkernel_1.3.2        \n",
       " [43] tensor_1.5             future.apply_1.11.1    zoo_1.8-12            \n",
       " [46] base64enc_0.1-3        sctransform_0.4.1      httpuv_1.6.14         \n",
       " [49] Matrix_1.6-5           splines_4.3.2          igraph_1.5.1          \n",
       " [52] tidyselect_1.2.0       abind_1.4-5            spatstat.random_3.2-2 \n",
       " [55] codetools_0.2-19       miniUI_0.1.1.1         spatstat.explore_3.2-5\n",
       " [58] listenv_0.9.1          lattice_0.22-5         tibble_3.2.1          \n",
       " [61] plyr_1.8.9             withr_3.0.0            shiny_1.8.0           \n",
       " [64] ROCR_1.0-11            evaluate_0.23          Rtsne_0.17            \n",
       " [67] future_1.33.1          fastDummies_1.7.3      survival_3.5-7        \n",
       " [70] polyclip_1.10-6        fitdistrplus_1.1-11    pillar_1.9.0          \n",
       " [73] KernSmooth_2.23-22     plotly_4.10.4          generics_0.1.3        \n",
       " [76] RcppHNSW_0.5.0         IRdisplay_1.1          ggplot2_3.4.4         \n",
       " [79] munsell_0.5.0          scales_1.3.0           globals_0.16.2        \n",
       " [82] xtable_1.8-4           glue_1.7.0             lazyeval_0.2.2        \n",
       " [85] tools_4.3.2            data.table_1.14.10     RSpectra_0.16-1       \n",
       " [88] pbdZMQ_0.3-11          RANN_2.6.1             leiden_0.4.3.1        \n",
       " [91] dotCall64_1.1-1        cowplot_1.1.3          grid_4.3.2            \n",
       " [94] tidyr_1.3.1            colorspace_2.1-0       nlme_3.1-164          \n",
       " [97] patchwork_1.2.0        repr_1.1.6             cli_3.6.2             \n",
       "[100] spatstat.sparse_3.0-3  spam_2.10-0            fansi_1.0.6           \n",
       "[103] viridisLite_0.4.2      dplyr_1.1.4            uwot_0.1.16           \n",
       "[106] gtable_0.3.4           digest_0.6.34          progressr_0.14.0      \n",
       "[109] ggrepel_0.9.5          htmlwidgets_1.5.4      htmltools_0.5.7       \n",
       "[112] lifecycle_1.0.4        httr_1.4.7             mime_0.12             \n",
       "[115] bit64_4.0.5            MASS_7.3-60           "
      ]
     },
     "metadata": {},
     "output_type": "display_data"
    }
   ],
   "source": [
    "sessionInfo()"
   ]
  }
 ],
 "metadata": {
  "kernelspec": {
   "display_name": "R [conda env:tb_bryan]",
   "language": "R",
   "name": "conda-env-tb_bryan-r"
  },
  "language_info": {
   "codemirror_mode": "r",
   "file_extension": ".r",
   "mimetype": "text/x-r-source",
   "name": "R",
   "pygments_lexer": "r",
   "version": "4.3.2"
  }
 },
 "nbformat": 4,
 "nbformat_minor": 5
}
