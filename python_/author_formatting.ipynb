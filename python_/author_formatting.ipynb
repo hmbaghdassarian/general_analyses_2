{
 "cells": [
  {
   "cell_type": "code",
   "execution_count": 1,
   "id": "91217f02-e398-4938-9af0-d58ca9329108",
   "metadata": {},
   "outputs": [],
   "source": [
    "authors = ['Hratch Baghdassarian', 'Sarah A Blackstone', 'Owen S Clay', 'Rachael Philips', 'Brynja Matthiasardottir', 'Michele Nehrebecky', 'Vivian K Hua', \n",
    "'Rachael McVicar', 'Yang Liu', 'Suzanne M Tucker', 'Davide Randazzo', 'Natalie Deuitch', 'Sofia Rosenzweig', 'Adam Mark', 'Roman Sasik', 'Kathleen M Fisch', \n",
    "'Pallavi Pimpale Chavan', 'Elif Eren', 'Norman R Watts', 'Chi A Ma', 'Massimo Gadina', 'Daniella M Schwartz', 'Anwesha Sanyal', 'Giffin Werner', \n",
    "'David R Murdock', 'Nobuyuki Horita', 'Shimul Chowdhury', 'David Dimmock', 'Kristen Jepsen', 'Elaine F Remmers', 'Raphaela Goldbach-Mansky', \n",
    "'William A Gahl', 'John J O’Shea', 'Joshua D Milner', 'Nathan E Lewis', 'Johanna Chang', 'Daniel L Kastner', 'Kathryn Torok', 'Hirotsugu Oda', \n",
    "'Christopher D Putnam', 'Lori Broderick']"
   ]
  },
  {
   "cell_type": "code",
   "execution_count": 2,
   "id": "307bfe2c-c845-4048-bcdc-b2fb26eb0c0a",
   "metadata": {},
   "outputs": [],
   "source": [
    "author = 'John J O’Shea'"
   ]
  },
  {
   "cell_type": "code",
   "execution_count": 20,
   "id": "1e7f6298-a318-47b0-90df-3c09291d1fba",
   "metadata": {},
   "outputs": [
    {
     "data": {
      "text/plain": [
       "'Baghdassarian H, Blackstone S, Clay O, Philips R, Matthiasardottir B, Nehrebecky M, Hua V, McVicar R, Liu Y, Tucker S, Randazzo D, Deuitch N, Rosenzweig S, Mark A, Sasik R, Fisch K, Chavan P, Eren E, Watts N, Ma C, Gadina M, Schwartz D, Sanyal A, Werner G, Murdock D, Horita N, Chowdhury S, Dimmock D, Jepsen K, Remmers E, Goldbach-Mansky R, Gahl W, O’Shea J, Milner J, Lewis N, Chang J, Kastner D, Torok K, Oda H, Putnam C, Broderick L'"
      ]
     },
     "execution_count": 20,
     "metadata": {},
     "output_type": "execute_result"
    }
   ],
   "source": [
    "formatted_authors = []\n",
    "for author in authors:\n",
    "    formatted_author = author.split(' ')\n",
    "    if len(formatted_author) > 2:\n",
    "        formatted_author.remove(formatted_author[1])\n",
    "    formatted_author[0] = formatted_author[0][0]\n",
    "    formatted_author = ' '.join(formatted_author[::-1])\n",
    "    formatted_authors.append(formatted_author)\n",
    "\n",
    "', '.join(formatted_authors)"
   ]
  },
  {
   "cell_type": "code",
   "execution_count": 7,
   "id": "b21b4ee4-191b-4314-afb9-f48e70c5ae6d",
   "metadata": {},
   "outputs": [
    {
     "data": {
      "text/plain": [
       "'O’Shea'"
      ]
     },
     "execution_count": 7,
     "metadata": {},
     "output_type": "execute_result"
    }
   ],
   "source": []
  },
  {
   "cell_type": "code",
   "execution_count": null,
   "id": "c9476797-00ce-43ea-9539-a001a3ba95ce",
   "metadata": {},
   "outputs": [],
   "source": []
  }
 ],
 "metadata": {
  "kernelspec": {
   "display_name": "Python 3 (ipykernel)",
   "language": "python",
   "name": "python3"
  },
  "language_info": {
   "codemirror_mode": {
    "name": "ipython",
    "version": 3
   },
   "file_extension": ".py",
   "mimetype": "text/x-python",
   "name": "python",
   "nbconvert_exporter": "python",
   "pygments_lexer": "ipython3",
   "version": "3.11.6"
  }
 },
 "nbformat": 4,
 "nbformat_minor": 5
}
