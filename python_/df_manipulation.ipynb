{
 "cells": [
  {
   "cell_type": "code",
   "execution_count": null,
   "metadata": {},
   "outputs": [],
   "source": [
    "import numpy as np\n",
    "import pandas as pd\n",
    "\n",
    "def explode(df_, explode_cols, sep = None, fill_value=float('nan'), preserve_index=False):\n",
    "    '''Split entries with multiple values separated by a separator into multiple rows (or entries in lists)\n",
    "    \n",
    "    https://stackoverflow.com/questions/12680754/split-explode-pandas-dataframe-string-entry-to-separate-rows\n",
    "    \n",
    "    df_: pd.DataFrame\n",
    "    explode_cols: list\n",
    "        columns to split\n",
    "    sep: separator\n",
    "        if None, already in list format\n",
    "    fill_value: \n",
    "        if empty entry, what to fill it with\n",
    "    preserve_index: bool\n",
    "        keep original index values for each new row\n",
    "    \n",
    "    '''\n",
    "    res = None\n",
    "    for col in explode_cols:\n",
    "        if res is None:\n",
    "            df = df_.copy()\n",
    "        else:\n",
    "            df = res.copy()\n",
    "        \n",
    "        df[col]=df[col].str.split(sep)\n",
    "\n",
    "        idx_cols = df.columns.difference([col])\n",
    "        # calculate lengths of lists\n",
    "        lens = df[col].apply(lambda x: len(x))\n",
    "\n",
    "        idx = np.repeat(df.index.values, lens)\n",
    "        # create \"exploded\" DF\n",
    "        res = (pd.DataFrame({\n",
    "                    col_:np.repeat(df[col_].values, lens)\n",
    "                    for col_ in idx_cols},\n",
    "                    index=idx)\n",
    "                 .assign(**{col_:np.concatenate(df.loc[lens>0, col_].values)\n",
    "                                for col_ in [col]}))\n",
    "        # append those rows that have empty lists\n",
    "        if (lens == 0).any():\n",
    "            # at least one list in cells is empty\n",
    "            res = (res.append(df.loc[lens==0, idx_cols], sort=False)\n",
    "                      .fillna(fill_value))\n",
    "        # revert the original index order\n",
    "        res = res.sort_index()\n",
    "        # reset index if requested\n",
    "        if not preserve_index:        \n",
    "            res.reset_index(drop=True, inplace = True)\n",
    "    return res"
   ]
  }
 ],
 "metadata": {
  "kernelspec": {
   "display_name": "Python 3",
   "language": "python",
   "name": "python3"
  },
  "language_info": {
   "codemirror_mode": {
    "name": "ipython",
    "version": 3
   },
   "file_extension": ".py",
   "mimetype": "text/x-python",
   "name": "python",
   "nbconvert_exporter": "python",
   "pygments_lexer": "ipython3",
   "version": "3.6.9"
  }
 },
 "nbformat": 4,
 "nbformat_minor": 4
}
