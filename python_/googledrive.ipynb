{
 "cells": [
  {
   "cell_type": "code",
   "execution_count": null,
   "metadata": {},
   "outputs": [],
   "source": [
    "# downloading an individual, public file\n",
    "\n",
    "# https://stackoverflow.com/questions/37453841/download-a-file-from-google-drive-using-wget\n",
    "hl = 'https://drive.google.com/u/2/open?id=XXX'\n",
    "file_id = 'XXX'\n",
    "file_name = 'file_name'\n",
    "outdir = 'path/to/outdir/'\n",
    "# git clone https://github.com/chentinghao/download_google_drive.git@e1097f50e631043f8f0d5d23b0fee2b6cb3eaa9b\n",
    "downloader = '/data2/hratch/Software/download_google_drive/' # from git clone above\n",
    "cmd = 'python ' + downloader + 'download_gdrive.py ' + file_id + ' ' + outdir + file_name\n",
    "os.system(cmd)"
   ]
  }
 ],
 "metadata": {
  "kernelspec": {
   "display_name": "Python [conda env:root] *",
   "language": "python",
   "name": "conda-root-py"
  },
  "language_info": {
   "codemirror_mode": {
    "name": "ipython",
    "version": 3
   },
   "file_extension": ".py",
   "mimetype": "text/x-python",
   "name": "python",
   "nbconvert_exporter": "python",
   "pygments_lexer": "ipython3",
   "version": "3.7.3"
  }
 },
 "nbformat": 4,
 "nbformat_minor": 2
}
