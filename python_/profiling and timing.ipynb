{
 "cells": [
  {
   "cell_type": "code",
   "execution_count": null,
   "metadata": {},
   "outputs": [],
   "source": [
    "import cProfile\n",
    "import pstats \n",
    "\n",
    "pr = cProfile.Profile()\n",
    "pr.enable()\n",
    "\n",
    "# code to profile here\n",
    "\n",
    "pr.disable()\n",
    "# pr.print_stats(sort='time')\n",
    "pstats.Stats(pr).sort_stats('time').print_stats()"
   ]
  },
  {
   "cell_type": "code",
   "execution_count": 1,
   "metadata": {},
   "outputs": [],
   "source": [
    "# to profile line by line:\n",
    "\n",
    "from line_profiler import LineProfiler\n",
    "\n",
    "def function_to_time(x):\n",
    "    # code here\n",
    "\n",
    "lp = LineProfiler()\n",
    "lp_wrapper = lp(function_to_time)\n",
    "lp_wrapper(x)\n",
    "lp.print_stats()\n",
    "\n",
    "python -m cProfile -s cumtime this_code.py > time_profile.txt"
   ]
  },
  {
   "cell_type": "code",
   "execution_count": null,
   "metadata": {},
   "outputs": [],
   "source": [
    "import cProfile\n",
    "import pstats\n",
    "import pandas as pd\n",
    "from io import StringIO\n",
    "\n",
    "profiler = cProfile.Profile()\n",
    "profiler.enable()\n",
    "\n",
    "# YOUR CODE TO TIME HERE\n",
    "\n",
    "\n",
    "profiler.disable()\n",
    "\n",
    "s = StringIO()\n",
    "ps = pstats.Stats(profiler, stream=s).sort_stats('cumulative')\n",
    "ps.print_stats()\n",
    "\n",
    "lines = s.getvalue().split('\\n')\n",
    "\n",
    "# Convert to DataFrame\n",
    "parsed = []\n",
    "for line in lines[5:]:  \n",
    "    parts = line.split(None, 5)  \n",
    "    if len(parts) == 6:\n",
    "        ncalls, tottime, percall1, cumtime, percall2, func = parts\n",
    "        parsed.append({\n",
    "            'ncalls': ncalls,\n",
    "            'tottime': float(tottime),\n",
    "            'percall_tottime': float(percall1),\n",
    "            'cumtime': float(cumtime),\n",
    "            'percall_cumtime': float(percall2),\n",
    "            'func': func\n",
    "        })\n",
    "\n",
    "timer_df = pd.DataFrame(parsed)\n"
   ]
  },
  {
   "cell_type": "code",
   "execution_count": null,
   "metadata": {},
   "outputs": [],
   "source": []
  },
  {
   "cell_type": "code",
   "execution_count": null,
   "metadata": {},
   "outputs": [],
   "source": []
  }
 ],
 "metadata": {
  "kernelspec": {
   "display_name": "Python [conda env:FDA_collab] *",
   "language": "python",
   "name": "conda-env-FDA_collab-py"
  },
  "language_info": {
   "codemirror_mode": {
    "name": "ipython",
    "version": 3
   },
   "file_extension": ".py",
   "mimetype": "text/x-python",
   "name": "python",
   "nbconvert_exporter": "python",
   "pygments_lexer": "ipython3",
   "version": "3.9.10"
  }
 },
 "nbformat": 4,
 "nbformat_minor": 4
}
