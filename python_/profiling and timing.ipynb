{
 "cells": [
  {
   "cell_type": "code",
   "execution_count": null,
   "metadata": {},
   "outputs": [],
   "source": [
    "import cProfile\n",
    "import pstats \n",
    "\n",
    "pr = cProfile.Profile()\n",
    "pr.enable()\n",
    "\n",
    "# code to profile here\n",
    "\n",
    "pr.disable()\n",
    "# pr.print_stats(sort='time')\n",
    "pstats.Stats(pr).sort_stats('time').print_stats()"
   ]
  },
  {
   "cell_type": "code",
   "execution_count": 1,
   "metadata": {},
   "outputs": [],
   "source": [
    "# to profile line by line:\n",
    "\n",
    "from line_profiler import LineProfiler\n",
    "\n",
    "def function_to_time(x):\n",
    "    # code here\n",
    "\n",
    "lp = LineProfiler()\n",
    "lp_wrapper = lp(function_to_time)\n",
    "lp_wrapper(x)\n",
    "lp.print_stats()\n",
    "\n",
    "python -m cProfile -s cumtime this_code.py > time_profile.txt"
   ]
  }
 ],
 "metadata": {
  "kernelspec": {
   "display_name": "Python [conda env:FDA_collab] *",
   "language": "python",
   "name": "conda-env-FDA_collab-py"
  },
  "language_info": {
   "codemirror_mode": {
    "name": "ipython",
    "version": 3
   },
   "file_extension": ".py",
   "mimetype": "text/x-python",
   "name": "python",
   "nbconvert_exporter": "python",
   "pygments_lexer": "ipython3",
   "version": "3.9.10"
  }
 },
 "nbformat": 4,
 "nbformat_minor": 2
}
