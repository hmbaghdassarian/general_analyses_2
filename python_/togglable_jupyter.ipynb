{
 "cells": [
  {
   "cell_type": "code",
   "execution_count": 7,
   "id": "be625b25-959e-4d40-90ec-70614145cf94",
   "metadata": {},
   "outputs": [],
   "source": [
    "from nbconvert import HTMLExporter\n",
    "import nbformat\n",
    "from traitlets.config import Config"
   ]
  },
  {
   "cell_type": "code",
   "execution_count": 8,
   "id": "64ed89c0-7e31-48f9-a191-5d2e7ce9a8eb",
   "metadata": {},
   "outputs": [],
   "source": [
    "notebook_path = '/home/hmbaghda/Projects/cart_lembas/notebooks/01A_regulon_effects.ipynb'"
   ]
  },
  {
   "cell_type": "code",
   "execution_count": 9,
   "id": "379d7e50-3084-42ec-920d-699e20077e26",
   "metadata": {},
   "outputs": [],
   "source": [
    "with open(notebook_path, 'r', encoding='utf-8') as f:\n",
    "    nb = nbformat.read(f, as_version=4)\n",
    "    \n",
    "# Configure HTMLExporter\n",
    "c = Config()\n",
    "c.HTMLExporter.preprocessors = ['nbconvert.preprocessors.TagRemovePreprocessor']\n",
    "c.TagRemovePreprocessor.remove_cell_tags = ('remove_cell',)\n",
    "c.TagRemovePreprocessor.remove_input_tags = ('remove_input',)\n",
    "c.TagRemovePreprocessor.remove_all_outputs_tags = ('remove_output',)\n",
    "c.TagRemovePreprocessor.enabled = True\n",
    "\n",
    "html_exporter = HTMLExporter(config=c, template_name='classic')\n",
    "html_exporter.exclude_input = False\n",
    "\n",
    "# Export the notebook to HTML\n",
    "(body, resources) = html_exporter.from_notebook_node(nb)\n",
    "\n",
    "# Custom JavaScript for collapsing code blocks and adding a toggle button\n",
    "custom_js = \"\"\"\n",
    "<script>\n",
    "document.addEventListener('DOMContentLoaded', function(){\n",
    "    var cells = document.querySelectorAll('.cell.code_cell .input');\n",
    "\n",
    "    cells.forEach(function(cell) {\n",
    "        var button = document.createElement('button');\n",
    "        button.textContent = 'Show Code';\n",
    "        button.style.display = 'block';\n",
    "        button.style.margin = '5px';\n",
    "        button.onclick = function() {\n",
    "            if (cell.style.display === 'none' || cell.style.display === '') {\n",
    "                cell.style.display = 'block';\n",
    "                button.textContent = 'Hide Code';\n",
    "            } else {\n",
    "                cell.style.display = 'none';\n",
    "                button.textContent = 'Show Code';\n",
    "            }\n",
    "        };\n",
    "\n",
    "        cell.parentNode.insertBefore(button, cell);\n",
    "        cell.style.display = 'none'; // Initially hide the code blocks\n",
    "    });\n",
    "});\n",
    "</script>\n",
    "\"\"\"\n",
    "\n",
    "# Insert the custom JavaScript before the </body> tag in the HTML content\n",
    "html_with_js = body.replace('</body>', custom_js + '</body>')\n",
    "\n",
    "# Save the modified HTML to a new file\n",
    "html_file_path = notebook_path.replace('.ipynb', '.html')\n",
    "with open(html_file_path, 'w', encoding='utf-8') as f:\n",
    "    f.write(html_with_js)"
   ]
  }
 ],
 "metadata": {
  "kernelspec": {
   "display_name": "Python [conda env:root] *",
   "language": "python",
   "name": "conda-root-py"
  },
  "language_info": {
   "codemirror_mode": {
    "name": "ipython",
    "version": 3
   },
   "file_extension": ".py",
   "mimetype": "text/x-python",
   "name": "python",
   "nbconvert_exporter": "python",
   "pygments_lexer": "ipython3",
   "version": "3.10.13"
  }
 },
 "nbformat": 4,
 "nbformat_minor": 5
}
